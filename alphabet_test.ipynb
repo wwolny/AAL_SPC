{
 "cells": [
  {
   "cell_type": "code",
   "execution_count": 1,
   "metadata": {
    "collapsed": true,
    "pycharm": {
     "is_executing": false
    }
   },
   "outputs": [],
   "source": [
    "from aal import PrefixSum\n",
    "from gen import Generate\n",
    "import time\n",
    "import pandas as pd"
   ]
  },
  {
   "cell_type": "code",
   "execution_count": 14,
   "metadata": {
    "pycharm": {
     "is_executing": false,
     "name": "#%%\n"
    }
   },
   "outputs": [],
   "source": [
    "word_n = 1000\n",
    "word_r = 100\n",
    "obj = PrefixSum(3)\n",
    "gen = Generate()\n",
    "repeat = 10\n",
    "arr = []\n",
    "alpha_arr = [0]*52"
   ]
  },
  {
   "cell_type": "code",
   "execution_count": 15,
   "metadata": {
    "pycharm": {
     "is_executing": false,
     "name": "#%%\n"
    }
   },
   "outputs": [],
   "source": [
    "for i in range(repeat):\n",
    "    for alpha in range(1, 52):\n",
    "        lines = []\n",
    "        t_instance = []\n",
    "        for r in range(0, word_r):\n",
    "            lines.append(gen.genWord(word_n, r / word_r, alpha))\n",
    "            start = time.time()\n",
    "            obj.pref_pref(lines[r])\n",
    "            end = time.time()\n",
    "            t_instance.append((end - start) * 1000)\n",
    "        alpha_arr[alpha-1] += sum(t_instance) / word_r\n",
    "        if i == repeat-1:\n",
    "            arr.append({\"size\":alpha,\"time\":alpha_arr[alpha-1]/repeat})\n",
    "df = pd.DataFrame(arr)"
   ]
  },
  {
   "cell_type": "code",
   "execution_count": 17,
   "metadata": {
    "pycharm": {
     "is_executing": false,
     "name": "#%%\n"
    }
   },
   "outputs": [
    {
     "name": "stdout",
     "output_type": "stream",
     "text": [
      "    size      time\n",
      "0      1  0.953363\n",
      "1      2  0.817410\n",
      "2      3  0.923932\n",
      "3      4  0.885293\n",
      "4      5  0.945844\n",
      "5      6  0.875671\n",
      "6      7  0.865911\n",
      "7      8  0.866062\n",
      "8      9  0.861826\n",
      "9     10  0.867633\n",
      "10    11  0.868957\n",
      "11    12  0.865239\n",
      "12    13  0.865310\n",
      "13    14  0.869106\n",
      "14    15  0.865550\n",
      "15    16  0.867889\n",
      "16    17  0.871082\n",
      "17    18  0.869531\n",
      "18    19  0.868401\n",
      "19    20  0.869549\n",
      "20    21  0.865646\n",
      "21    22  0.879900\n",
      "22    23  0.874383\n",
      "23    24  0.870626\n",
      "24    25  0.867491\n",
      "25    26  0.865329\n",
      "26    27  0.874588\n",
      "27    28  0.862373\n",
      "28    29  0.868618\n",
      "29    30  0.866758\n",
      "30    31  0.877713\n",
      "31    32  0.871152\n",
      "32    33  0.876693\n",
      "33    34  0.881561\n",
      "34    35  0.881212\n",
      "35    36  0.871649\n",
      "36    37  0.867253\n",
      "37    38  0.902795\n",
      "38    39  0.865530\n",
      "39    40  0.866515\n",
      "40    41  0.870974\n",
      "41    42  0.865796\n",
      "42    43  0.865133\n",
      "43    44  0.867355\n",
      "44    45  0.865235\n",
      "45    46  0.865352\n",
      "46    47  0.864420\n",
      "47    48  0.865859\n",
      "48    49  0.866551\n",
      "49    50  0.868992\n",
      "50    51  0.868191\n",
      "count    51.000000\n",
      "mean      0.873239\n",
      "std       0.020092\n",
      "min       0.817410\n",
      "25%       0.865721\n",
      "50%       0.868191\n",
      "75%       0.873016\n",
      "max       0.953363\n",
      "Name: time, dtype: float64\n"
     ]
    }
   ],
   "source": [
    "print(df)\n",
    "print(df.time.describe())"
   ]
  }
 ],
 "metadata": {
  "kernelspec": {
   "display_name": "Python 3",
   "language": "python",
   "name": "python3"
  },
  "language_info": {
   "codemirror_mode": {
    "name": "ipython",
    "version": 3
   },
   "file_extension": ".py",
   "mimetype": "text/x-python",
   "name": "python",
   "nbconvert_exporter": "python",
   "pygments_lexer": "ipython3",
   "version": "3.7.3"
  },
  "pycharm": {
   "stem_cell": {
    "cell_type": "raw",
    "metadata": {
     "collapsed": false
    },
    "source": []
   }
  }
 },
 "nbformat": 4,
 "nbformat_minor": 1
}
